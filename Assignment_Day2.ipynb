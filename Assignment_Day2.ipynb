{
  "nbformat": 4,
  "nbformat_minor": 0,
  "metadata": {
    "colab": {
      "name": "Assignment Day2.ipynb",
      "provenance": [],
      "authorship_tag": "ABX9TyOEUSfaehctBSu7VldGSJLr",
      "include_colab_link": true
    },
    "kernelspec": {
      "name": "python3",
      "display_name": "Python 3"
    }
  },
  "cells": [
    {
      "cell_type": "markdown",
      "metadata": {
        "id": "view-in-github",
        "colab_type": "text"
      },
      "source": [
        "<a href=\"https://colab.research.google.com/github/Anshika1024/LetsUpgrade-Python-Essentials/blob/master/Assignment_Day2.ipynb\" target=\"_parent\"><img src=\"https://colab.research.google.com/assets/colab-badge.svg\" alt=\"Open In Colab\"/></a>"
      ]
    },
    {
      "cell_type": "markdown",
      "metadata": {
        "id": "zg6JO0ieDwcY",
        "colab_type": "text"
      },
      "source": [
        "Question 1)List and its default functions."
      ]
    },
    {
      "cell_type": "markdown",
      "metadata": {
        "id": "h5QTbQSj_zo6",
        "colab_type": "text"
      },
      "source": [
        "A list is a data structure in Python that is a mutable, or changeable, ordered \n",
        "sequence of elements.\n",
        "Lists are defined by having values between square brackets[]."
      ]
    },
    {
      "cell_type": "code",
      "metadata": {
        "id": "qKork7qPGjNf",
        "colab_type": "code",
        "colab": {}
      },
      "source": [
        "lst = ['Maths', 'chemistry', 1997, 2000]"
      ],
      "execution_count": null,
      "outputs": []
    },
    {
      "cell_type": "markdown",
      "metadata": {
        "id": "HI0GhK9QEFiO",
        "colab_type": "text"
      },
      "source": [
        "Some of its default functions are:"
      ]
    },
    {
      "cell_type": "markdown",
      "metadata": {
        "id": "Bb6luR3_EKjW",
        "colab_type": "text"
      },
      "source": [
        "1.append():It is used to add elements to the last position of List.\n",
        "Syntax:list.append (element)\n",
        "\n",
        "\n",
        "\n",
        "\n"
      ]
    },
    {
      "cell_type": "code",
      "metadata": {
        "id": "cRfdjmLIG7Wt",
        "colab_type": "code",
        "colab": {
          "base_uri": "https://localhost:8080/",
          "height": 34
        },
        "outputId": "b49cae9c-8f41-4542-92dc-9a59397a2e33"
      },
      "source": [
        "lst.append(5.6)\n",
        "lst"
      ],
      "execution_count": null,
      "outputs": [
        {
          "output_type": "execute_result",
          "data": {
            "text/plain": [
              "['Maths', 'chemistry', 1997, 2000, 5.6]"
            ]
          },
          "metadata": {
            "tags": []
          },
          "execution_count": 2
        }
      ]
    },
    {
      "cell_type": "markdown",
      "metadata": {
        "id": "YO-PceACE2Ck",
        "colab_type": "text"
      },
      "source": [
        "2.insert(): Inserts an elements at specified position.\n",
        "   Syntax:list.insert(<position, element)"
      ]
    },
    {
      "cell_type": "code",
      "metadata": {
        "id": "pp9ZGX4NHSDA",
        "colab_type": "code",
        "colab": {
          "base_uri": "https://localhost:8080/",
          "height": 34
        },
        "outputId": "afb2d9d8-2040-4c2e-8411-d362f1c09692"
      },
      "source": [
        "lst.insert(2,10087)      \n",
        "print(lst) "
      ],
      "execution_count": null,
      "outputs": [
        {
          "output_type": "stream",
          "text": [
            "['Maths', 'chemistry', 10087, 1997, 2000, 5.6]\n"
          ],
          "name": "stdout"
        }
      ]
    },
    {
      "cell_type": "markdown",
      "metadata": {
        "id": "q5lEQqkkHa4n",
        "colab_type": "text"
      },
      "source": [
        "3.sum() : Calculates sum of all the elements of List.\n",
        "Syntax:sum(List)"
      ]
    },
    {
      "cell_type": "code",
      "metadata": {
        "id": "BKsHm2VWHjKr",
        "colab_type": "code",
        "colab": {
          "base_uri": "https://localhost:8080/",
          "height": 34
        },
        "outputId": "9fcf0dcc-9e3c-4522-f084-672364a9e542"
      },
      "source": [
        "L1 = [1, 2, 3, 4, 5] \n",
        "print(sum(L1)) "
      ],
      "execution_count": null,
      "outputs": [
        {
          "output_type": "stream",
          "text": [
            "15\n"
          ],
          "name": "stdout"
        }
      ]
    },
    {
      "cell_type": "markdown",
      "metadata": {
        "id": "Z9xLtIlDHq_D",
        "colab_type": "text"
      },
      "source": [
        "4.count():Calculates total occurrence of given element of List.\n",
        "Syntax:List.count(element)"
      ]
    },
    {
      "cell_type": "code",
      "metadata": {
        "id": "Xry0A6hyHy5j",
        "colab_type": "code",
        "colab": {
          "base_uri": "https://localhost:8080/",
          "height": 34
        },
        "outputId": "3441ff0b-ed6e-4767-9666-d76623728be6"
      },
      "source": [
        "L = [1, 2, 3, 1, 2, 1, 2, 3, 2, 1] \n",
        "print(L.count(1)) "
      ],
      "execution_count": null,
      "outputs": [
        {
          "output_type": "stream",
          "text": [
            "4\n"
          ],
          "name": "stdout"
        }
      ]
    },
    {
      "cell_type": "markdown",
      "metadata": {
        "id": "PUoiKEL9IDNF",
        "colab_type": "text"
      },
      "source": [
        "5.max(): Calculates maximum of all the elements of List.\n",
        "Syntax:max(List)"
      ]
    },
    {
      "cell_type": "code",
      "metadata": {
        "id": "4A5C7ETLIGnx",
        "colab_type": "code",
        "colab": {
          "base_uri": "https://localhost:8080/",
          "height": 34
        },
        "outputId": "dfd5ea19-0a24-41b1-d8e9-ef8376380d56"
      },
      "source": [
        "t = [2.3, 4.445, 3, 5.33, 1.054, 2.5] \n",
        "print(max(t)) "
      ],
      "execution_count": null,
      "outputs": [
        {
          "output_type": "stream",
          "text": [
            "5.33\n"
          ],
          "name": "stdout"
        }
      ]
    },
    {
      "cell_type": "markdown",
      "metadata": {
        "colab_type": "text",
        "id": "hDBgqREOISqH"
      },
      "source": [
        "Question 2)Dictionary and its default functions."
      ]
    },
    {
      "cell_type": "markdown",
      "metadata": {
        "id": "amoH7QzsIasG",
        "colab_type": "text"
      },
      "source": [
        "A dictionary is a unordered collection of key/value pairs.\n",
        "In Python, a Dictionary can be created by placing sequence of elements within curly {} braces, separated by ‘comma’. \n",
        "Values in a dictionary can be of any datatype and can be duplicated, whereas keys can’t be repeated and must be immutable."
      ]
    },
    {
      "cell_type": "code",
      "metadata": {
        "id": "kN5d0D6BKKP9",
        "colab_type": "code",
        "colab": {}
      },
      "source": [
        "d1={'Name': 'Zara', 'Age': 7}\n",
        "d2={'Name':'Manni', 'Age': 8}"
      ],
      "execution_count": null,
      "outputs": []
    },
    {
      "cell_type": "markdown",
      "metadata": {
        "id": "8TEj3CSrKnJ5",
        "colab_type": "text"
      },
      "source": [
        "Some of its default functions are:"
      ]
    },
    {
      "cell_type": "markdown",
      "metadata": {
        "id": "90-z_uXTKr1W",
        "colab_type": "text"
      },
      "source": [
        "1.len():Gives the total length of the dictionary. This would be equal to the number of items in the dictionary."
      ]
    },
    {
      "cell_type": "code",
      "metadata": {
        "id": "9ToqS90XLQKX",
        "colab_type": "code",
        "colab": {
          "base_uri": "https://localhost:8080/",
          "height": 34
        },
        "outputId": "69b847d8-568e-4192-853e-1325666ac448"
      },
      "source": [
        "print(len(d1))"
      ],
      "execution_count": null,
      "outputs": [
        {
          "output_type": "stream",
          "text": [
            "2\n"
          ],
          "name": "stdout"
        }
      ]
    },
    {
      "cell_type": "markdown",
      "metadata": {
        "id": "D2oNpaRyLUxT",
        "colab_type": "text"
      },
      "source": [
        "2.items():Returns a list of (key, value) tuple pairs."
      ]
    },
    {
      "cell_type": "code",
      "metadata": {
        "id": "nnY-QRoOLhxE",
        "colab_type": "code",
        "colab": {
          "base_uri": "https://localhost:8080/",
          "height": 34
        },
        "outputId": "fee0b744-8ffb-45c0-d658-7e7dff520fe7"
      },
      "source": [
        "d2.items()"
      ],
      "execution_count": null,
      "outputs": [
        {
          "output_type": "execute_result",
          "data": {
            "text/plain": [
              "dict_items([('Name', 'Manni'), ('Age', 8)])"
            ]
          },
          "metadata": {
            "tags": []
          },
          "execution_count": 11
        }
      ]
    },
    {
      "cell_type": "markdown",
      "metadata": {
        "id": "5qmqqtCvMqro",
        "colab_type": "text"
      },
      "source": [
        "3.keys():Returns list of dictionary dict's keys."
      ]
    },
    {
      "cell_type": "code",
      "metadata": {
        "id": "ZDvcRFJ0Mwts",
        "colab_type": "code",
        "colab": {
          "base_uri": "https://localhost:8080/",
          "height": 34
        },
        "outputId": "0f34cdb1-8b59-46dd-ce21-cf7d6c21092c"
      },
      "source": [
        "d1.keys()\n",
        "d2.keys()"
      ],
      "execution_count": 14,
      "outputs": [
        {
          "output_type": "execute_result",
          "data": {
            "text/plain": [
              "dict_keys(['Name', 'Age'])"
            ]
          },
          "metadata": {
            "tags": []
          },
          "execution_count": 14
        }
      ]
    },
    {
      "cell_type": "markdown",
      "metadata": {
        "id": "qNkANGTnM40W",
        "colab_type": "text"
      },
      "source": [
        "4.values():Returns list of dictionary values."
      ]
    },
    {
      "cell_type": "code",
      "metadata": {
        "id": "83Q7Q3TxM-jV",
        "colab_type": "code",
        "colab": {
          "base_uri": "https://localhost:8080/",
          "height": 34
        },
        "outputId": "7e99dc5d-1ef2-4e1c-8ad5-0b7e36541ff1"
      },
      "source": [
        "d2.values()\n"
      ],
      "execution_count": 15,
      "outputs": [
        {
          "output_type": "execute_result",
          "data": {
            "text/plain": [
              "dict_values(['Manni', 8])"
            ]
          },
          "metadata": {
            "tags": []
          },
          "execution_count": 15
        }
      ]
    },
    {
      "cell_type": "markdown",
      "metadata": {
        "id": "EW_XsZa1Nxz6",
        "colab_type": "text"
      },
      "source": [
        "5.copy():Returns a shallow copy of dictionary."
      ]
    },
    {
      "cell_type": "code",
      "metadata": {
        "id": "bphpj3d5OVMV",
        "colab_type": "code",
        "colab": {
          "base_uri": "https://localhost:8080/",
          "height": 34
        },
        "outputId": "c4363b14-4eeb-4dd7-8ed9-d77581f8766b"
      },
      "source": [
        "d3=d2.copy()\n",
        "print(d3)"
      ],
      "execution_count": 19,
      "outputs": [
        {
          "output_type": "stream",
          "text": [
            "{'Name': 'Manni', 'Age': 8}\n"
          ],
          "name": "stdout"
        }
      ]
    },
    {
      "cell_type": "markdown",
      "metadata": {
        "colab_type": "text",
        "id": "2k2LrnBLOjCO"
      },
      "source": [
        "Question 3)Sets and its default functions."
      ]
    },
    {
      "cell_type": "markdown",
      "metadata": {
        "id": "4Z4pdT4uOrNN",
        "colab_type": "text"
      },
      "source": [
        "A set is a collection which is unordered and unindexed. In Python sets are written with curly brackets."
      ]
    },
    {
      "cell_type": "code",
      "metadata": {
        "id": "W9iMYY5MPEs4",
        "colab_type": "code",
        "colab": {}
      },
      "source": [
        "thisset = {\"apple\", \"banana\", \"cherry\"}"
      ],
      "execution_count": 26,
      "outputs": []
    },
    {
      "cell_type": "markdown",
      "metadata": {
        "id": "okNDyOAAPHDV",
        "colab_type": "text"
      },
      "source": [
        "Some of its default functions are:"
      ]
    },
    {
      "cell_type": "markdown",
      "metadata": {
        "id": "H0-KU6ZYPLl2",
        "colab_type": "text"
      },
      "source": [
        "1.add():Use to add one item to a set."
      ]
    },
    {
      "cell_type": "code",
      "metadata": {
        "id": "XaDOiRVJPdEJ",
        "colab_type": "code",
        "colab": {
          "base_uri": "https://localhost:8080/",
          "height": 34
        },
        "outputId": "42113d19-5afc-437e-84d0-a5a4b149095d"
      },
      "source": [
        "thisset.add(\"orange\")\n",
        "\n",
        "print(thisset)"
      ],
      "execution_count": 27,
      "outputs": [
        {
          "output_type": "stream",
          "text": [
            "{'apple', 'orange', 'cherry', 'banana'}\n"
          ],
          "name": "stdout"
        }
      ]
    },
    {
      "cell_type": "markdown",
      "metadata": {
        "id": "lf-rP_BYPgU4",
        "colab_type": "text"
      },
      "source": [
        "2.remove():Used to remove an item in a set."
      ]
    },
    {
      "cell_type": "code",
      "metadata": {
        "id": "b7Rcy52jPq5p",
        "colab_type": "code",
        "colab": {
          "base_uri": "https://localhost:8080/",
          "height": 34
        },
        "outputId": "b3e372a8-a4da-45bc-e267-6aec9b8662ad"
      },
      "source": [
        "thisset.remove(\"banana\")\n",
        "print(thisset)"
      ],
      "execution_count": 28,
      "outputs": [
        {
          "output_type": "stream",
          "text": [
            "{'apple', 'orange', 'cherry'}\n"
          ],
          "name": "stdout"
        }
      ]
    },
    {
      "cell_type": "markdown",
      "metadata": {
        "id": "XwP6aHvgPuux",
        "colab_type": "text"
      },
      "source": [
        "3.pop():To remove the last item in a set."
      ]
    },
    {
      "cell_type": "code",
      "metadata": {
        "id": "1wSXJF7NP4Gs",
        "colab_type": "code",
        "colab": {
          "base_uri": "https://localhost:8080/",
          "height": 51
        },
        "outputId": "7fe8c0c6-9b33-4cac-dc86-87d299b063ad"
      },
      "source": [
        "x = thisset.pop()\n",
        "print(x)\n",
        "print(thisset)"
      ],
      "execution_count": 29,
      "outputs": [
        {
          "output_type": "stream",
          "text": [
            "apple\n",
            "{'orange', 'cherry'}\n"
          ],
          "name": "stdout"
        }
      ]
    },
    {
      "cell_type": "markdown",
      "metadata": {
        "id": "bgXuCUBnQiTk",
        "colab_type": "text"
      },
      "source": [
        "4.union():The union() method returns a new set with all items from both sets."
      ]
    },
    {
      "cell_type": "code",
      "metadata": {
        "id": "qYkTbfTPQmKs",
        "colab_type": "code",
        "colab": {
          "base_uri": "https://localhost:8080/",
          "height": 34
        },
        "outputId": "e4424d89-5b6a-497e-c697-ce288e87e088"
      },
      "source": [
        "set1 = {\"a\", \"b\" , \"c\"}\n",
        "set2 = {1, 2, 3}\n",
        "set3 = set1.union(set2)\n",
        "print(set3)"
      ],
      "execution_count": 30,
      "outputs": [
        {
          "output_type": "stream",
          "text": [
            "{1, 'c', 2, 3, 'b', 'a'}\n"
          ],
          "name": "stdout"
        }
      ]
    },
    {
      "cell_type": "markdown",
      "metadata": {
        "id": "HJJfIC1IQtoJ",
        "colab_type": "text"
      },
      "source": [
        "5.clear():The clear() method empties the set"
      ]
    },
    {
      "cell_type": "code",
      "metadata": {
        "id": "IleesQE_XHDw",
        "colab_type": "code",
        "colab": {
          "base_uri": "https://localhost:8080/",
          "height": 34
        },
        "outputId": "c7e00b95-9fdd-413a-a085-879604cf452a"
      },
      "source": [
        "thisset = {\"apple\", \"banana\", \"cherry\"}\n",
        "thisset.clear()\n",
        "print(thisset)"
      ],
      "execution_count": 34,
      "outputs": [
        {
          "output_type": "stream",
          "text": [
            "set()\n"
          ],
          "name": "stdout"
        }
      ]
    },
    {
      "cell_type": "markdown",
      "metadata": {
        "id": "uVTP1gcZX7cO",
        "colab_type": "text"
      },
      "source": [
        "Question 4)Tuple and explore default methods."
      ]
    },
    {
      "cell_type": "markdown",
      "metadata": {
        "id": "q6TMJnTzY6z-",
        "colab_type": "text"
      },
      "source": [
        "A tuple is a collection which is ordered and unchangeable. In Python, tuples are written with round brackets."
      ]
    },
    {
      "cell_type": "code",
      "metadata": {
        "id": "Wr4JILGgZFUH",
        "colab_type": "code",
        "colab": {}
      },
      "source": [
        "thistuple = (\"apple\", \"banana\", \"cherry\", \"orange\", \"kiwi\", \"melon\", \"mango\")"
      ],
      "execution_count": 35,
      "outputs": []
    },
    {
      "cell_type": "markdown",
      "metadata": {
        "id": "nVGWgUnNZH3j",
        "colab_type": "text"
      },
      "source": [
        "Some of its default methods are:"
      ]
    },
    {
      "cell_type": "markdown",
      "metadata": {
        "id": "sjEnmBHGZMPY",
        "colab_type": "text"
      },
      "source": [
        "1.count():The count() method returns the number of times a specified value appears in the tuple.\n",
        "Syntax:tuple.count(value)"
      ]
    },
    {
      "cell_type": "code",
      "metadata": {
        "id": "5VOoGu8xZiOa",
        "colab_type": "code",
        "colab": {
          "base_uri": "https://localhost:8080/",
          "height": 34
        },
        "outputId": "43718a43-4eb4-4cfe-b6e0-26379d32d4b3"
      },
      "source": [
        "tup = (1, 3, 7, 8, 7, 5, 4, 6, 8, 5)\n",
        "x = tup.count(5)\n",
        "print(x)"
      ],
      "execution_count": 36,
      "outputs": [
        {
          "output_type": "stream",
          "text": [
            "2\n"
          ],
          "name": "stdout"
        }
      ]
    },
    {
      "cell_type": "markdown",
      "metadata": {
        "id": "5i3bAgLWZuDh",
        "colab_type": "text"
      },
      "source": [
        "2.index():The index() method finds the first occurrence of the specified value.\n",
        "It raises an exception if the value is not found.\n",
        "Syntax:tuple.index(value)"
      ]
    },
    {
      "cell_type": "code",
      "metadata": {
        "id": "NUoT_D8wZ8lW",
        "colab_type": "code",
        "colab": {
          "base_uri": "https://localhost:8080/",
          "height": 34
        },
        "outputId": "56aef9b4-98b5-4e02-8f11-f0a300daa3dc"
      },
      "source": [
        "x = tup.index(8)\n",
        "print(x)"
      ],
      "execution_count": 38,
      "outputs": [
        {
          "output_type": "stream",
          "text": [
            "3\n"
          ],
          "name": "stdout"
        }
      ]
    },
    {
      "cell_type": "markdown",
      "metadata": {
        "colab_type": "text",
        "id": "1TszYH6aa1sl"
      },
      "source": [
        "Question 5)Strings and explore default methods."
      ]
    },
    {
      "cell_type": "markdown",
      "metadata": {
        "id": "I6o_Z4t6a7xE",
        "colab_type": "text"
      },
      "source": [
        "Strings in Python are arrays of bytes representing unicode characters.\n",
        "However, Python does not have a character data type, a single character is simply a string with a length of 1.\n",
        "String literals in python are surrounded by either single quotation marks, or double quotation marks.\n",
        "'hello' is the same as \"hello\"."
      ]
    },
    {
      "cell_type": "code",
      "metadata": {
        "id": "yZvnSmOBbkET",
        "colab_type": "code",
        "colab": {
          "base_uri": "https://localhost:8080/",
          "height": 34
        },
        "outputId": "dc696773-55af-449b-8ba4-d0014a2b0452"
      },
      "source": [
        "print(\"Hello\")"
      ],
      "execution_count": 39,
      "outputs": [
        {
          "output_type": "stream",
          "text": [
            "Hello\n"
          ],
          "name": "stdout"
        }
      ]
    },
    {
      "cell_type": "markdown",
      "metadata": {
        "id": "i12CP21sbwZk",
        "colab_type": "text"
      },
      "source": [
        "Some of its default methods are:"
      ]
    },
    {
      "cell_type": "markdown",
      "metadata": {
        "id": "oEuRD0g5bz5M",
        "colab_type": "text"
      },
      "source": [
        "1.capitalize():Returns a copy of the string with its first character capitalized and the rest lowercased."
      ]
    },
    {
      "cell_type": "code",
      "metadata": {
        "id": "yX_U_7R4cBhX",
        "colab_type": "code",
        "colab": {
          "base_uri": "https://localhost:8080/",
          "height": 34
        },
        "outputId": "44dc7532-be62-43b9-f479-8e14641cbfb0"
      },
      "source": [
        "mystring = \"hello python\"\n",
        "print(mystring.capitalize())"
      ],
      "execution_count": 40,
      "outputs": [
        {
          "output_type": "stream",
          "text": [
            "Hello python\n"
          ],
          "name": "stdout"
        }
      ]
    },
    {
      "cell_type": "markdown",
      "metadata": {
        "id": "_aQZaYKtcF-j",
        "colab_type": "text"
      },
      "source": [
        "2.Casefold():Returns a casefolded copy of the string. Casefolded strings may be used for caseless matching."
      ]
    },
    {
      "cell_type": "code",
      "metadata": {
        "id": "LU4ymjENcLXv",
        "colab_type": "code",
        "colab": {
          "base_uri": "https://localhost:8080/",
          "height": 34
        },
        "outputId": "46c9aa00-3f26-4fcf-e2b3-c4bac9911b21"
      },
      "source": [
        "mystring = \"hello PYTHON\"\n",
        "print(mystring.casefold())"
      ],
      "execution_count": 41,
      "outputs": [
        {
          "output_type": "stream",
          "text": [
            "hello python\n"
          ],
          "name": "stdout"
        }
      ]
    },
    {
      "cell_type": "markdown",
      "metadata": {
        "id": "ARfzdF8ocZAy",
        "colab_type": "text"
      },
      "source": [
        "3.endswith(suffix, [start], [end]):Returns True if the string ends with the specified suffix, otherwise it returns False."
      ]
    },
    {
      "cell_type": "code",
      "metadata": {
        "id": "KaqUkvloccxJ",
        "colab_type": "code",
        "colab": {
          "base_uri": "https://localhost:8080/",
          "height": 34
        },
        "outputId": "a3fe1ed0-a188-482f-b355-68d1603b2349"
      },
      "source": [
        "mystr = \"Python\"\n",
        "print(mystr.endswith(\"y\"))"
      ],
      "execution_count": 42,
      "outputs": [
        {
          "output_type": "stream",
          "text": [
            "False\n"
          ],
          "name": "stdout"
        }
      ]
    },
    {
      "cell_type": "markdown",
      "metadata": {
        "id": "VM0oMMIvciAw",
        "colab_type": "text"
      },
      "source": [
        "4.isalnum():Returns True if all characters in the string are alphanumeric."
      ]
    },
    {
      "cell_type": "code",
      "metadata": {
        "id": "OjPIeDaZcpkc",
        "colab_type": "code",
        "colab": {
          "base_uri": "https://localhost:8080/",
          "height": 34
        },
        "outputId": "bbdc7f80-14a3-4146-b2ec-2ffee6370f08"
      },
      "source": [
        "a = \"123\"\n",
        "print(a.isalnum())"
      ],
      "execution_count": 43,
      "outputs": [
        {
          "output_type": "stream",
          "text": [
            "True\n"
          ],
          "name": "stdout"
        }
      ]
    },
    {
      "cell_type": "markdown",
      "metadata": {
        "id": "ptJHEVeBcv63",
        "colab_type": "text"
      },
      "source": [
        "5.islower():Returns True if all characters in the string are lower case."
      ]
    },
    {
      "cell_type": "code",
      "metadata": {
        "id": "9gHXZ82Qc4i7",
        "colab_type": "code",
        "colab": {
          "base_uri": "https://localhost:8080/",
          "height": 34
        },
        "outputId": "d7f62312-1e8b-44e0-ba34-a76958a3cc4d"
      },
      "source": [
        "c=\"_user_123\"\n",
        "print(c.islower())"
      ],
      "execution_count": 44,
      "outputs": [
        {
          "output_type": "stream",
          "text": [
            "True\n"
          ],
          "name": "stdout"
        }
      ]
    }
  ]
}