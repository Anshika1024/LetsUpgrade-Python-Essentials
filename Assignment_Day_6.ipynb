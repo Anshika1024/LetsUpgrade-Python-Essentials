{
  "nbformat": 4,
  "nbformat_minor": 0,
  "metadata": {
    "colab": {
      "name": "Assignment Day 6.ipynb",
      "provenance": [],
      "authorship_tag": "ABX9TyML2+mv6ZHnHoVrqZf9xRXp",
      "include_colab_link": true
    },
    "kernelspec": {
      "name": "python3",
      "display_name": "Python 3"
    }
  },
  "cells": [
    {
      "cell_type": "markdown",
      "metadata": {
        "id": "view-in-github",
        "colab_type": "text"
      },
      "source": [
        "<a href=\"https://colab.research.google.com/github/Anshika1024/LetsUpgrade-Python-Essentials/blob/master/Assignment_Day_6.ipynb\" target=\"_parent\"><img src=\"https://colab.research.google.com/assets/colab-badge.svg\" alt=\"Open In Colab\"/></a>"
      ]
    },
    {
      "cell_type": "markdown",
      "metadata": {
        "id": "BoZtdIm1d9fG",
        "colab_type": "text"
      },
      "source": [
        "**Question 1)**\n",
        "For this challenge,create a bank account class that has two attributes\n",
        "ownerName,Balance\n",
        "And two methods\n",
        "deposit and withdraw\n",
        "As an added requirement,withdrawals may not exceed the available balance.\n",
        "Instantiate your class,make several deposits and withdrawals,and test to make sure the account\n",
        "cant be overdrawn."
      ]
    },
    {
      "cell_type": "code",
      "metadata": {
        "id": "qW_eMI36eNfn",
        "colab_type": "code",
        "colab": {
          "base_uri": "https://localhost:8080/",
          "height": 186
        },
        "outputId": "e0b2c346-eb53-450f-9ffc-8d8f0507362f"
      },
      "source": [
        "class Bankaccount:\n",
        "  def __init__(self,ownername,balance):\n",
        "    self.ownername=ownername\n",
        "    self.balance=balance\n",
        "  def deposit(self): \n",
        "        amount = float(input(\"Enter amount to be deposited: \")) \n",
        "        self.balance += amount \n",
        "        print(\"\\n Amount Deposited:\", amount)\n",
        "  def withdraw(self): \n",
        "        amount = float(input(\"Enter amount to be withdrawn: \")) \n",
        "        if self.balance >= amount: \n",
        "            self.balance -= amount \n",
        "            print(\"\\n You Withdrew:\", amount) \n",
        "        else: \n",
        "            print(\"\\n Insufficient balance  \") \n",
        "  def display(self): \n",
        "        print(\"\\n Net Available Balance=\",self.balance) \n",
        "name=input(\"Enter owner's name:\")\n",
        "bal=int(input(\"Enter balance:\"))\n",
        "b = Bankaccount(name,bal) \n",
        "b.deposit() \n",
        "b.withdraw() \n",
        "b.display() \n"
      ],
      "execution_count": null,
      "outputs": [
        {
          "output_type": "stream",
          "text": [
            "Enter owner's name:mohan\n",
            "Enter balance:1500\n",
            "Enter amount to be deposited: 500\n",
            "\n",
            " Amount Deposited: 500.0\n",
            "Enter amount to be withdrawn: 1500\n",
            "\n",
            " You Withdrew: 1500.0\n",
            "\n",
            " Net Available Balance= 500.0\n"
          ],
          "name": "stdout"
        }
      ]
    },
    {
      "cell_type": "markdown",
      "metadata": {
        "id": "ergYwuNlhayp",
        "colab_type": "text"
      },
      "source": [
        "**Question 2)**\n",
        "For this challenge,create a cone class that has two attributes:\n",
        "R=Radius and h=Height\n",
        "And two methods:\n",
        "Volume = Π * r2 = (h/3) and Surface area : base : Π * r2 , side : Π * r * √(r2 + h2)\n",
        "Make only one class with functions,as in where required import Math."
      ]
    },
    {
      "cell_type": "code",
      "metadata": {
        "id": "-r1A2q9ehnTN",
        "colab_type": "code",
        "colab": {
          "base_uri": "https://localhost:8080/",
          "height": 84
        },
        "outputId": "ae06f502-5b28-4c29-eb62-76cd821144ea"
      },
      "source": [
        "import math\n",
        "class Cone:\n",
        "  def __init__(self,radius,height):\n",
        "    self.radius=radius\n",
        "    self.height=height\n",
        "  def volume(self):\n",
        "    v=(1*math.pi*self.radius*self.radius*self.height)/3\n",
        "    print(\"volume:%.2f\" %v)\n",
        "  def surfacearea(self):\n",
        "    a=math.sqrt(self.radius*self.radius+self.height*self.height)\n",
        "    s=math.pi*self.radius*a\n",
        "    print(\"Surface area:%.2f\" %s)\n",
        "r=int(input(\"Enter radius:\"))\n",
        "h=int(input(\"Enter height:\"))\n",
        "c=Cone(r,h)\n",
        "c.volume()\n",
        "c.surfacearea()\n"
      ],
      "execution_count": null,
      "outputs": [
        {
          "output_type": "stream",
          "text": [
            "Enter radius:5\n",
            "Enter height:12\n",
            "volume:314.16\n",
            "Surface area:204.20\n"
          ],
          "name": "stdout"
        }
      ]
    }
  ]
}