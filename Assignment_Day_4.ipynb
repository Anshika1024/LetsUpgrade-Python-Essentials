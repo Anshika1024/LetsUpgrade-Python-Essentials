{
  "nbformat": 4,
  "nbformat_minor": 0,
  "metadata": {
    "colab": {
      "name": "Assignment Day 4.ipynb",
      "provenance": [],
      "authorship_tag": "ABX9TyN7ypSrc74gheSvzEo0u7LT",
      "include_colab_link": true
    },
    "kernelspec": {
      "name": "python3",
      "display_name": "Python 3"
    }
  },
  "cells": [
    {
      "cell_type": "markdown",
      "metadata": {
        "id": "view-in-github",
        "colab_type": "text"
      },
      "source": [
        "<a href=\"https://colab.research.google.com/github/Anshika1024/LetsUpgrade-Python-Essentials/blob/master/Assignment_Day_4.ipynb\" target=\"_parent\"><img src=\"https://colab.research.google.com/assets/colab-badge.svg\" alt=\"Open In Colab\"/></a>"
      ]
    },
    {
      "cell_type": "markdown",
      "metadata": {
        "id": "hFAjVrRT1mr-",
        "colab_type": "text"
      },
      "source": [
        "**Question 1)**\n",
        "Print the first ArmStrong number in the range of 1042000 to 702648265 and exit the loop as soon\n",
        "as you encounter the first armstrong number.\n",
        "Use while loop"
      ]
    },
    {
      "cell_type": "code",
      "metadata": {
        "id": "_VcK6TyD1z3B",
        "colab_type": "code",
        "colab": {
          "base_uri": "https://localhost:8080/",
          "height": 34
        },
        "outputId": "d0caf74d-94c9-4f27-cd65-4ed3bfa75ae9"
      },
      "source": [
        "for num in range(1042000,702648266):\n",
        "  order = len(str(num))\n",
        "  sum = 0\n",
        "  temp = num\n",
        "  while temp > 0:\n",
        "    digit = temp % 10\n",
        "    sum += digit ** order\n",
        "    temp //= 10\n",
        "  if num == sum:\n",
        "    print(\"The first armstrong number is \",num)\n",
        "    break"
      ],
      "execution_count": 1,
      "outputs": [
        {
          "output_type": "stream",
          "text": [
            "The first armstrong number is  1741725\n"
          ],
          "name": "stdout"
        }
      ]
    }
  ]
}