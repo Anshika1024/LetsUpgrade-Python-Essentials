{
  "nbformat": 4,
  "nbformat_minor": 0,
  "metadata": {
    "colab": {
      "name": "Assignment Day3.ipynb",
      "provenance": [],
      "authorship_tag": "ABX9TyNklMp1MFl2J1dmqxdn+oac",
      "include_colab_link": true
    },
    "kernelspec": {
      "name": "python3",
      "display_name": "Python 3"
    }
  },
  "cells": [
    {
      "cell_type": "markdown",
      "metadata": {
        "id": "view-in-github",
        "colab_type": "text"
      },
      "source": [
        "<a href=\"https://colab.research.google.com/github/Anshika1024/LetsUpgrade-Python-Essentials/blob/master/Assignment_Day3.ipynb\" target=\"_parent\"><img src=\"https://colab.research.google.com/assets/colab-badge.svg\" alt=\"Open In Colab\"/></a>"
      ]
    },
    {
      "cell_type": "markdown",
      "metadata": {
        "id": "2fIF1J7hhn6q",
        "colab_type": "text"
      },
      "source": [
        "**Question** **1**)You all are Pilots, you want to land a plane safely, so altitude required for landing a plane is 1000ft, it it is less than tell pilot to land the plane, or it is more than that but less than 5000ft ask the pilot to “come down to 1000ft”, else if it more than 5000ft ask the pilot to “go around and try later” \n"
      ]
    },
    {
      "cell_type": "code",
      "metadata": {
        "id": "zegNqv7lhtqj",
        "colab_type": "code",
        "colab": {
          "base_uri": "https://localhost:8080/",
          "height": 51
        },
        "outputId": "e3dfa4e4-ecc7-4a4f-f5b5-0dd9e45613f4"
      },
      "source": [
        "altitude=int(input())\n",
        "if altitude<=1000:\n",
        "  print(\"Safe to Land\")\n",
        "elif altitude>1000 and altitude<=5000:\n",
        "  print(\"Come down to 1000\")\n",
        "else:\n",
        "  print(\"Go Around and Try later\")"
      ],
      "execution_count": 7,
      "outputs": [
        {
          "output_type": "stream",
          "text": [
            "4500\n",
            "Come down to 1000\n"
          ],
          "name": "stdout"
        }
      ]
    },
    {
      "cell_type": "markdown",
      "metadata": {
        "id": "aeqt4cenlcGP",
        "colab_type": "text"
      },
      "source": [
        "**Question 2)**Using for loop please print all the prime numbers between 1- 200 using FOR LOOP AND RANGE function."
      ]
    },
    {
      "cell_type": "code",
      "metadata": {
        "id": "eVRe5yAzllwe",
        "colab_type": "code",
        "colab": {
          "base_uri": "https://localhost:8080/",
          "height": 793
        },
        "outputId": "44b592ca-b9c0-4efd-823b-2f9374b5964a"
      },
      "source": [
        "for i in range(1,201):\n",
        "  if i>1:\n",
        "    for j in range(2,i):\n",
        "      if (i%j)==0:\n",
        "        break\n",
        "    else:\n",
        "      print(i)"
      ],
      "execution_count": 14,
      "outputs": [
        {
          "output_type": "stream",
          "text": [
            "2\n",
            "3\n",
            "5\n",
            "7\n",
            "11\n",
            "13\n",
            "17\n",
            "19\n",
            "23\n",
            "29\n",
            "31\n",
            "37\n",
            "41\n",
            "43\n",
            "47\n",
            "53\n",
            "59\n",
            "61\n",
            "67\n",
            "71\n",
            "73\n",
            "79\n",
            "83\n",
            "89\n",
            "97\n",
            "101\n",
            "103\n",
            "107\n",
            "109\n",
            "113\n",
            "127\n",
            "131\n",
            "137\n",
            "139\n",
            "149\n",
            "151\n",
            "157\n",
            "163\n",
            "167\n",
            "173\n",
            "179\n",
            "181\n",
            "191\n",
            "193\n",
            "197\n",
            "199\n"
          ],
          "name": "stdout"
        }
      ]
    }
  ]
}