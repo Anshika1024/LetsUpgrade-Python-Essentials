{
  "nbformat": 4,
  "nbformat_minor": 0,
  "metadata": {
    "colab": {
      "name": "Assignment Day 5.ipynb",
      "provenance": [],
      "authorship_tag": "ABX9TyN9+jEhnjtOd7Vu885UTxDa",
      "include_colab_link": true
    },
    "kernelspec": {
      "name": "python3",
      "display_name": "Python 3"
    }
  },
  "cells": [
    {
      "cell_type": "markdown",
      "metadata": {
        "id": "view-in-github",
        "colab_type": "text"
      },
      "source": [
        "<a href=\"https://colab.research.google.com/github/Anshika1024/LetsUpgrade-Python-Essentials/blob/master/Assignment_Day_5.ipynb\" target=\"_parent\"><img src=\"https://colab.research.google.com/assets/colab-badge.svg\" alt=\"Open In Colab\"/></a>"
      ]
    },
    {
      "cell_type": "markdown",
      "metadata": {
        "id": "iRnkedPh5WtH",
        "colab_type": "text"
      },
      "source": [
        "**Question 1)**\n",
        "Write a program to identify sub list [1,1,5] is there in the given list in the same order, if yes print\n",
        "“it’s a Match” if no then print “it’s Gone” in function.\n"
      ]
    },
    {
      "cell_type": "code",
      "metadata": {
        "id": "l_yw_Pnp5cnG",
        "colab_type": "code",
        "colab": {
          "base_uri": "https://localhost:8080/",
          "height": 186
        },
        "outputId": "44c591dc-3a9c-4ca4-b7cc-f2b0766a5cd1"
      },
      "source": [
        "lst=[]\n",
        "n=int(input(\"Enter number of elements:\"))\n",
        "for i in range(0,n):\n",
        "  ele = int(input())\n",
        "  lst.append(ele)\n",
        "sub=[1,1,5]\n",
        "f=0\n",
        "for i in range(0,n):\n",
        "  if lst[i]==sub[0]:\n",
        "    for j in range(i+1,n):\n",
        "      if lst[j]==sub[1]:\n",
        "        for k in range(j+1,n):\n",
        "          if lst[k]==sub[2]:\n",
        "            f=1\n",
        "            break\n",
        "        break\n",
        "if f==1:\n",
        "  print(\"it's a Match\")\n",
        "else:\n",
        "  print(\"it’s Gone\")"
      ],
      "execution_count": 16,
      "outputs": [
        {
          "output_type": "stream",
          "text": [
            "Enter number of elements:8\n",
            "1\n",
            "5\n",
            "6\n",
            "4\n",
            "1\n",
            "2\n",
            "3\n",
            "5\n",
            "it's a Match\n"
          ],
          "name": "stdout"
        }
      ]
    },
    {
      "cell_type": "markdown",
      "metadata": {
        "id": "Ar69BJlf50Fe",
        "colab_type": "text"
      },
      "source": [
        "**Question 2)**\n",
        "Make a Function for prime numbers and use Filter to filter out all the prime numbers from 1-2500"
      ]
    },
    {
      "cell_type": "code",
      "metadata": {
        "id": "oRsC22XZ_CW4",
        "colab_type": "code",
        "colab": {
          "base_uri": "https://localhost:8080/",
          "height": 54
        },
        "outputId": "4c4a936a-74fd-4a3f-8b2f-43726d4e57c1"
      },
      "source": [
        "def prime(n):\n",
        "  for x in range(2, n):\n",
        "    if (n%x==0):\n",
        "      return False\n",
        "  return True\n",
        "fltrObj=filter(prime, range(2,2500))\n",
        "print (list(fltrObj))\n",
        "\n"
      ],
      "execution_count": null,
      "outputs": [
        {
          "output_type": "stream",
          "text": [
            "[2, 3, 5, 7, 11, 13, 17, 19, 23, 29, 31, 37, 41, 43, 47, 53, 59, 61, 67, 71, 73, 79, 83, 89, 97, 101, 103, 107, 109, 113, 127, 131, 137, 139, 149, 151, 157, 163, 167, 173, 179, 181, 191, 193, 197, 199, 211, 223, 227, 229, 233, 239, 241, 251, 257, 263, 269, 271, 277, 281, 283, 293, 307, 311, 313, 317, 331, 337, 347, 349, 353, 359, 367, 373, 379, 383, 389, 397, 401, 409, 419, 421, 431, 433, 439, 443, 449, 457, 461, 463, 467, 479, 487, 491, 499, 503, 509, 521, 523, 541, 547, 557, 563, 569, 571, 577, 587, 593, 599, 601, 607, 613, 617, 619, 631, 641, 643, 647, 653, 659, 661, 673, 677, 683, 691, 701, 709, 719, 727, 733, 739, 743, 751, 757, 761, 769, 773, 787, 797, 809, 811, 821, 823, 827, 829, 839, 853, 857, 859, 863, 877, 881, 883, 887, 907, 911, 919, 929, 937, 941, 947, 953, 967, 971, 977, 983, 991, 997, 1009, 1013, 1019, 1021, 1031, 1033, 1039, 1049, 1051, 1061, 1063, 1069, 1087, 1091, 1093, 1097, 1103, 1109, 1117, 1123, 1129, 1151, 1153, 1163, 1171, 1181, 1187, 1193, 1201, 1213, 1217, 1223, 1229, 1231, 1237, 1249, 1259, 1277, 1279, 1283, 1289, 1291, 1297, 1301, 1303, 1307, 1319, 1321, 1327, 1361, 1367, 1373, 1381, 1399, 1409, 1423, 1427, 1429, 1433, 1439, 1447, 1451, 1453, 1459, 1471, 1481, 1483, 1487, 1489, 1493, 1499, 1511, 1523, 1531, 1543, 1549, 1553, 1559, 1567, 1571, 1579, 1583, 1597, 1601, 1607, 1609, 1613, 1619, 1621, 1627, 1637, 1657, 1663, 1667, 1669, 1693, 1697, 1699, 1709, 1721, 1723, 1733, 1741, 1747, 1753, 1759, 1777, 1783, 1787, 1789, 1801, 1811, 1823, 1831, 1847, 1861, 1867, 1871, 1873, 1877, 1879, 1889, 1901, 1907, 1913, 1931, 1933, 1949, 1951, 1973, 1979, 1987, 1993, 1997, 1999, 2003, 2011, 2017, 2027, 2029, 2039, 2053, 2063, 2069, 2081, 2083, 2087, 2089, 2099, 2111, 2113, 2129, 2131, 2137, 2141, 2143, 2153, 2161, 2179, 2203, 2207, 2213, 2221, 2237, 2239, 2243, 2251, 2267, 2269, 2273, 2281, 2287, 2293, 2297, 2309, 2311, 2333, 2339, 2341, 2347, 2351, 2357, 2371, 2377, 2381, 2383, 2389, 2393, 2399, 2411, 2417, 2423, 2437, 2441, 2447, 2459, 2467, 2473, 2477]\n"
          ],
          "name": "stdout"
        }
      ]
    },
    {
      "cell_type": "markdown",
      "metadata": {
        "id": "E2xS6bnbDTau",
        "colab_type": "text"
      },
      "source": [
        "**Question 3)**\n",
        "Make a Lambda function for capitalizing the whole sentence passed using arguments.\n",
        "And map all the sentences in the List, with the lambda functions\n",
        "[“hey this is sai”,I am in mumbai”,....]"
      ]
    },
    {
      "cell_type": "code",
      "metadata": {
        "id": "lFUvhH14Daot",
        "colab_type": "code",
        "colab": {
          "base_uri": "https://localhost:8080/",
          "height": 54
        },
        "outputId": "a1662866-75bd-4610-8d57-324e7164db69"
      },
      "source": [
        "lst=('hi this is anshika i am from india')\n",
        "lst_num=map(lambda x: x.title(),lst)\n",
        "print(list(lst_num))"
      ],
      "execution_count": null,
      "outputs": [
        {
          "output_type": "stream",
          "text": [
            "['H', 'I', ' ', 'T', 'H', 'I', 'S', ' ', 'I', 'S', ' ', 'A', 'N', 'S', 'H', 'I', 'K', 'A', ' ', 'I', ' ', 'A', 'M', ' ', 'F', 'R', 'O', 'M', ' ', 'I', 'N', 'D', 'I', 'A']\n"
          ],
          "name": "stdout"
        }
      ]
    }
  ]
}